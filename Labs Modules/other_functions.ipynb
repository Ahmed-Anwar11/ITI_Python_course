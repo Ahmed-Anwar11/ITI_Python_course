{
 "cells": [
  {
   "cell_type": "code",
   "execution_count": 5,
   "metadata": {},
   "outputs": [
    {
     "name": "stdout",
     "output_type": "stream",
     "text": [
      "10\n"
     ]
    }
   ],
   "source": [
    "#Function to count vowels in a string\n",
    "def vowels_counter(sentence):\n",
    "    y=0\n",
    "    for i in sentence:\n",
    "        if i in [\"a\",\"e\",\"i\",\"o\",\"u\",\"A\",\"E\",\"I\",\"O\",\"U\"]:\n",
    "            y+= 1\n",
    "    print(y)\n",
    "\n",
    "sentence = \"ITI_Ismalia_Python_course\"\n",
    "vowels_counter(sentence)"
   ]
  },
  {
   "cell_type": "code",
   "execution_count": 7,
   "metadata": {},
   "outputs": [
    {
     "name": "stdout",
     "output_type": "stream",
     "text": [
      "1*1=1\n",
      "2*1=2\n",
      "2*2=4\n",
      "3*1=3\n",
      "3*2=6\n",
      "3*3=9\n",
      "4*1=4\n",
      "4*2=8\n",
      "4*3=12\n",
      "4*4=16\n",
      "5*1=5\n",
      "5*2=10\n",
      "5*3=15\n",
      "5*4=20\n",
      "5*5=25\n"
     ]
    }
   ],
   "source": [
    "# function that returns multiplication table from 1 to the given number\n",
    "def multiplication_table(number):\n",
    "    for i in range(number):\n",
    "        i+=1\n",
    "        for n in range(i):\n",
    "            n+=1\n",
    "            print(f\"{i}*{n}={n*i}\")\n",
    "\n",
    "multiplication_table(5)"
   ]
  }
 ],
 "metadata": {
  "kernelspec": {
   "display_name": "Python 3",
   "language": "python",
   "name": "python3"
  },
  "language_info": {
   "codemirror_mode": {
    "name": "ipython",
    "version": 3
   },
   "file_extension": ".py",
   "mimetype": "text/x-python",
   "name": "python",
   "nbconvert_exporter": "python",
   "pygments_lexer": "ipython3",
   "version": "3.12.10"
  }
 },
 "nbformat": 4,
 "nbformat_minor": 2
}
